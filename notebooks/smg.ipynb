{
 "cells": [
  {
   "cell_type": "code",
   "execution_count": 183,
   "metadata": {},
   "outputs": [],
   "source": [
    "import matplotlib.pyplot as plt\n",
    "import torch\n",
    "import torch.nn as nn\n",
    "from torch.utils.data import Dataset\n",
    "import numpy as np\n",
    "import pypianoroll as pp\n",
    "import torch.optim as optim\n",
    "\n",
    "from glob import glob\n",
    "\n",
    "from tqdm import tqdm"
   ]
  },
  {
   "cell_type": "code",
   "execution_count": 2,
   "metadata": {},
   "outputs": [],
   "source": [
    "import sys\n",
    "#sys.path.insert(0, \"..\")\n",
    "sys.path.insert(0, \"../..\")"
   ]
  },
  {
   "cell_type": "code",
   "execution_count": 3,
   "metadata": {},
   "outputs": [],
   "source": [
    "from smg.datasets.ldp_5_cleansed import LDP5Cleansed\n",
    "from smg.models.recurrent import RecurrentSMG"
   ]
  },
  {
   "cell_type": "code",
   "execution_count": 4,
   "metadata": {},
   "outputs": [],
   "source": [
    "def get_data_loader(dataset, batch_size, n_workers=4, shuffle=True):\n",
    "    data_loader = torch.utils.data.DataLoader(\n",
    "        dataset,\n",
    "        num_workers=n_workers,\n",
    "        batch_size=batch_size,\n",
    "        drop_last=True,\n",
    "        shuffle=shuffle\n",
    "    )\n",
    "    return data_loader\n",
    "\n",
    "\n",
    "def experiment_config():\n",
    "    n_pitches = 72\n",
    "    beat_resolution = 4\n",
    "    measures_per_sample = 4\n",
    "    n_instruments = 5\n",
    "    BEATS_PER_MEASURE = 4\n",
    "    timesteps_per_measure = beat_resolution * BEATS_PER_MEASURE\n",
    "    \n",
    "    ds_args = {\n",
    "        \"data_dir\": \"../../../data/few_examples\", #\"../../../data/lpd_5\",\n",
    "        \"lowest_pitch\": 24,\n",
    "        \"n_pitches\": n_pitches,\n",
    "        \"beat_resolution\": beat_resolution,\n",
    "        \"measures_per_sample\": measures_per_sample\n",
    "    }\n",
    "    dataset = LDP5Cleansed(**ds_args)\n",
    "    \n",
    "    \n",
    "    batch_size = 8\n",
    "    n_workers = 0\n",
    "    data_loader = get_data_loader(dataset, batch_size, n_workers, shuffle=True)\n",
    "    \n",
    "    dev = torch.device('cuda' if torch.cuda.is_available() else 'cpu')\n",
    "    \n",
    "    hidden_size = 200\n",
    "    num_layers = 3\n",
    "    model = RecurrentSMG(timesteps_per_measure=timesteps_per_measure,\n",
    "                n_pitches=n_pitches,\n",
    "                n_instruments=n_instruments,\n",
    "                seq_length=timesteps_per_measure * measures_per_sample,\n",
    "                hidden_size=hidden_size,\n",
    "                num_layers=num_layers)\n",
    "    model = model.to(dev)\n",
    "    \n",
    "    return {\"dataset\": dataset, \"data_loader\": data_loader, \"model\": model, \"dev\": dev}\n"
   ]
  },
  {
   "cell_type": "code",
   "execution_count": 12,
   "metadata": {},
   "outputs": [],
   "source": [
    "def run(dev, model, data_loader, num_epochs=10, lr=1e-2):\n",
    "    \n",
    "    opt = optim.Adam(model.parameters(), lr=lr)\n",
    "    loss_fn = nn.MSELoss()\n",
    "    \n",
    "    for epoch in range(1, num_epochs+1):\n",
    "        pbar = tqdm(data_loader, desc=\"{:4d}. epoch\".format(epoch))\n",
    "        for x, y in pbar:\n",
    "            x, y = x.to(dev), y.to(dev)\n",
    "            \n",
    "            opt.zero_grad()\n",
    "            y_hat = model.forward(x)\n",
    "            loss = loss_fn(y_hat, y) * 1e3\n",
    "            loss.backward()\n",
    "            opt.step()\n",
    "            \n",
    "            pbar.set_postfix(loss=loss.item())"
   ]
  },
  {
   "cell_type": "code",
   "execution_count": 13,
   "metadata": {},
   "outputs": [
    {
     "name": "stderr",
     "output_type": "stream",
     "text": [
      "100%|██████████████████████████████████████████████████████████████████████████████████| 37/37 [00:00<00:00, 53.81it/s]\n",
      "   1. epoch:   0%|                                                                               | 0/4 [00:00<?, ?it/s]"
     ]
    },
    {
     "name": "stdout",
     "output_type": "stream",
     "text": [
      "Loaded 37 samples!\n"
     ]
    },
    {
     "name": "stderr",
     "output_type": "stream",
     "text": [
      "   1. epoch: 100%|████████████████████████████████████████████████████████████| 4/4 [00:00<00:00,  4.10it/s, loss=9.48]\n",
      "   2. epoch: 100%|████████████████████████████████████████████████████████████| 4/4 [00:00<00:00,  4.08it/s, loss=12.8]\n",
      "   3. epoch: 100%|████████████████████████████████████████████████████████████| 4/4 [00:00<00:00,  4.44it/s, loss=10.5]\n",
      "   4. epoch: 100%|████████████████████████████████████████████████████████████| 4/4 [00:00<00:00,  4.30it/s, loss=8.15]\n",
      "   5. epoch: 100%|████████████████████████████████████████████████████████████| 4/4 [00:00<00:00,  4.20it/s, loss=8.31]\n",
      "   6. epoch: 100%|████████████████████████████████████████████████████████████| 4/4 [00:00<00:00,  4.33it/s, loss=10.2]\n",
      "   7. epoch: 100%|████████████████████████████████████████████████████████████| 4/4 [00:00<00:00,  4.41it/s, loss=11.1]\n",
      "   8. epoch: 100%|████████████████████████████████████████████████████████████| 4/4 [00:00<00:00,  4.49it/s, loss=9.52]\n",
      "   9. epoch: 100%|████████████████████████████████████████████████████████████| 4/4 [00:00<00:00,  4.56it/s, loss=8.17]\n",
      "  10. epoch: 100%|████████████████████████████████████████████████████████████| 4/4 [00:00<00:00,  4.43it/s, loss=9.26]\n"
     ]
    }
   ],
   "source": [
    "config = experiment_config() \n",
    "\n",
    "ds = config[\"dataset\"]\n",
    "dl = config[\"data_loader\"]\n",
    "model = config['model']\n",
    "dev = config['dev']\n",
    "\n",
    "run(dev, model, dl, num_epochs=10, lr=1e-2)"
   ]
  },
  {
   "cell_type": "code",
   "execution_count": 469,
   "metadata": {},
   "outputs": [],
   "source": [
    "# use model and generate a fuckn mid\n",
    "\n",
    "# how you ask?\n",
    "# well good question! let me tell you how\n",
    "\n",
    "# start with a piano roll sequence\n",
    "# should have dimension (batch_size, n_instruments, seq_length, n_pitches)\n",
    "# batch size is 1, n_instrument is 5, n_pitches is 72\n",
    "from torch.distributions.multinomial import Multinomial\n",
    "from datetime import datetime\n",
    "\n",
    "\n",
    "def generate_pianoroll(pianoroll, beat_resolution, lowest_pitch, n_pitches):\n",
    "    '''\n",
    "    :param pianoroll: uint8 array, shape = (instruments, time, 128) - min value = 0, max value = 127\n",
    "    :param beat_resolution: don't touch this unless you know what you are doing\n",
    "    :return: a multi track piano roll\n",
    "    '''\n",
    "    \n",
    "    INSTRUMENTS = ['Drums', 'Piano', 'Guitar', 'Bass', 'Strings']\n",
    "    INSTRUMENT_MIDI_METADATA = {\n",
    "        0: (0, True),\n",
    "        1: (0, False),\n",
    "        2: (25, False),\n",
    "        3: (33, False),\n",
    "        4: (48, False)\n",
    "    }\n",
    "\n",
    "    tempo = 120.0\n",
    "    downbeat=None\n",
    "\n",
    "    assert(np.all(np.logical_and(pianoroll >= 0, pianoroll < 128)))\n",
    "    pianoroll = pianoroll.astype(np.uint8)\n",
    "\n",
    "    full_pitch_pianoroll = np.zeros((pianoroll.shape[0], pianoroll.shape[1], 128))\n",
    "    full_pitch_pianoroll[:, :, lowest_pitch:lowest_pitch + n_pitches] = pianoroll\n",
    "\n",
    "    # create tracks\n",
    "    tracks = []\n",
    "    for i in range(len(full_pitch_pianoroll)):\n",
    "        program, is_drum = INSTRUMENT_MIDI_METADATA[i]\n",
    "        tracks.append(\n",
    "            pp.Track(\n",
    "                full_pitch_pianoroll[i],\n",
    "                is_drum=is_drum,\n",
    "                program=program,\n",
    "                name=INSTRUMENTS[i]\n",
    "            )\n",
    "        )\n",
    "\n",
    "    # create multitrack piano rolls\n",
    "    return pp.Multitrack(\n",
    "        tracks=tracks,\n",
    "        tempo=tempo * (np.ones(full_pitch_pianoroll.shape[1])),\n",
    "        downbeat=downbeat,\n",
    "        beat_resolution=beat_resolution,\n",
    "        name='generated'\n",
    "    )\n",
    "\n",
    "\n",
    "def rand_stub_generator(seq_len):\n",
    "    n_pitches = 72\n",
    "    n_instruments = 5\n",
    "    \n",
    "    m = Multinomial(total_count=1, probs=torch.ones(1, n_instruments, seq_len, n_pitches))\n",
    "    \n",
    "    return lambda : m.sample()\n",
    "\n",
    "\n",
    "def generate_mid(stub, model, n_iter=10, seq_length=None):\n",
    "    if seq_length is None:\n",
    "        seq_length = stub.size(2)\n",
    "    \n",
    "    pianoroll = stub\n",
    "    \n",
    "    for _ in range(n_iter):\n",
    "        # generate next timestep\n",
    "        y_hat = model.forward(stub)\n",
    "        \n",
    "        # add timestep to pianoroll\n",
    "        pianoroll = torch.cat([pianoroll, y_hat], dim=2)\n",
    "        # slide stub\n",
    "        stub = pianoroll[:, :, -seq_len:, :]\n",
    "        \n",
    "\n",
    "    # convert pianoroll -> pp.Multitrack -> .mid file\n",
    "    pianoroll_view = pianoroll.view(-1, pianoroll.size(3))\n",
    "    max_p, argmax_p = pianoroll_view.max(dim=-1)\n",
    "    \n",
    "    new_roll = torch.zeros_like(pianoroll_view)\n",
    "    new_roll[np.arange(new_roll.size(0)), argmax_p.type(torch.LongTensor)] = max_p\n",
    "    \n",
    "    pianoroll = new_roll.view(pianoroll.size())\n",
    "    pianoroll = pianoroll.detach()[0].numpy() * 127\n",
    "    \n",
    "    pianoroll[np.logical_and(pianoroll > 1, pianoroll < 60)] += 60\n",
    "\n",
    "    return generate_pianoroll(pianoroll, beat_resolution=4, lowest_pitch=24, n_pitches=72)\n",
    "\n",
    "    \n",
    "def stub_from_file(file, seq_length, random_start=True):\n",
    "    lowest_pitch = 24\n",
    "    n_pitches = 72\n",
    "    n_instruments = 5\n",
    "    beat_resolution = 4\n",
    "    \n",
    "    multitrack_roll = pp.load(file)\n",
    "    multitrack_roll.downsample(multitrack_roll.beat_resolution // beat_resolution)\n",
    "    \n",
    "    stacked = multitrack_roll.get_stacked_pianoroll().transpose(2, 0, 1)\n",
    "    \n",
    "    start = 0 # np.random.choice(stacked.shape[1] - seq_length)\n",
    "    if random_start:\n",
    "        start = np.random.choice(stacked.shape[1] - seq_length)\n",
    "     \n",
    "    print(start)\n",
    "    stub = stacked[:, start:start+seq_length, lowest_pitch:lowest_pitch+n_pitches]\n",
    "    \n",
    "    return torch.from_numpy(stub).type(dtype=torch.FloatTensor).unsqueeze(0) / 127"
   ]
  },
  {
   "cell_type": "code",
   "execution_count": 482,
   "metadata": {},
   "outputs": [
    {
     "data": {
      "text/plain": [
       "<All keys matched successfully>"
      ]
     },
     "execution_count": 482,
     "metadata": {},
     "output_type": "execute_result"
    }
   ],
   "source": [
    "model.load_state_dict(torch.load('lstm_finished.pth', map_location=dev))"
   ]
  },
  {
   "cell_type": "code",
   "execution_count": 483,
   "metadata": {},
   "outputs": [],
   "source": [
    "data_dir = ds.data_dir\n",
    "seq_len = 16*4"
   ]
  },
  {
   "cell_type": "code",
   "execution_count": 441,
   "metadata": {},
   "outputs": [],
   "source": [
    "gen = rand_stub_generator(seq_len)\n",
    "stub = gen()\n",
    "sample = generate_mid(stub, model)"
   ]
  },
  {
   "cell_type": "code",
   "execution_count": 442,
   "metadata": {},
   "outputs": [],
   "source": [
    "import pypianoroll.plot as ppplt"
   ]
  },
  {
   "cell_type": "code",
   "execution_count": 484,
   "metadata": {},
   "outputs": [],
   "source": [
    "files = glob(data_dir + \"/**/*.npz\", recursive=True)"
   ]
  },
  {
   "cell_type": "code",
   "execution_count": 524,
   "metadata": {},
   "outputs": [
    {
     "name": "stdout",
     "output_type": "stream",
     "text": [
      "../../../data/few_examples\\A\\S\\TRAASKZ128F9308820\\886270e42b69e0983dfd9a591e66f214.npz\n",
      "91\n"
     ]
    },
    {
     "data": {
      "image/png": "[encoded data removed]",
      "text/plain": [
       "<Figure size 1332x756 with 1 Axes>"
      ]
     },
     "metadata": {
      "needs_background": "light"
     },
     "output_type": "display_data"
    }
   ],
   "source": [
    "file = np.random.choice(files)\n",
    "#file = files[]\n",
    "\n",
    "print(file)\n",
    "stub = stub_from_file(file, seq_len)\n",
    "sample = generate_mid(stub, model, 10)\n",
    "sample.write(\"../../../out/out_{}.mid\".format(int(datetime.timestamp(datetime. now()))))\n",
    "\n",
    "#sample.write('out.mid')\n",
    "fig, axs = ppplt(sample.tracks[0])\n",
    "\n",
    "fig.set_size_inches(18.5, 10.5)\n",
    "plt.show()"
   ]
  },
  {
   "cell_type": "code",
   "execution_count": null,
   "metadata": {},
   "outputs": [],
   "source": []
  },
  {
   "cell_type": "code",
   "execution_count": null,
   "metadata": {},
   "outputs": [],
   "source": []
  },
  {
   "cell_type": "code",
   "execution_count": null,
   "metadata": {},
   "outputs": [],
   "source": []
  },
  {
   "cell_type": "code",
   "execution_count": null,
   "metadata": {},
   "outputs": [],
   "source": []
  },
  {
   "cell_type": "code",
   "execution_count": null,
   "metadata": {},
   "outputs": [],
   "source": []
  },
  {
   "cell_type": "code",
   "execution_count": null,
   "metadata": {},
   "outputs": [],
   "source": []
  },
  {
   "cell_type": "code",
   "execution_count": null,
   "metadata": {},
   "outputs": [],
   "source": []
  }
 ],
 "metadata": {
  "kernelspec": {
   "display_name": "Python 3",
   "language": "python",
   "name": "python3"
  },
  "language_info": {
   "codemirror_mode": {
    "name": "ipython",
    "version": 3
   },
   "file_extension": ".py",
   "mimetype": "text/x-python",
   "name": "python",
   "nbconvert_exporter": "python",
   "pygments_lexer": "ipython3",
   "version": "3.7.5"
  }
 },
 "nbformat": 4,
 "nbformat_minor": 2
}
