{
 "cells": [
  {
   "cell_type": "code",
   "execution_count": 1,
   "metadata": {},
   "outputs": [],
   "source": [
    "import sys\n",
    "#sys.path.insert(0, \"..\")\n",
    "sys.path.insert(0, \"../..\")"
   ]
  },
  {
   "cell_type": "code",
   "execution_count": 2,
   "metadata": {},
   "outputs": [],
   "source": [
    "from smg.datasets.ldp_5_cleansed import LDP5Cleansed\n",
    "from smg.models.recurrent import RecurrentSMG"
   ]
  },
  {
   "cell_type": "code",
   "execution_count": 3,
   "metadata": {},
   "outputs": [],
   "source": [
    "from smg.experiments.train_lstm import ex"
   ]
  },
  {
   "cell_type": "markdown",
   "metadata": {},
   "source": [
    "# Train modell"
   ]
  },
  {
   "cell_type": "code",
   "execution_count": 10,
   "metadata": {},
   "outputs": [
    {
     "name": "stderr",
     "output_type": "stream",
     "text": [
      "INFO - train_lstm - Running command 'print_config'\n",
      "INFO - train_lstm - Started\n",
      "INFO - train_lstm - Completed after 0:00:00\n"
     ]
    },
    {
     "name": "stdout",
     "output_type": "stream",
     "text": [
      "Configuration (\u001b[34mmodified\u001b[0m, \u001b[32madded\u001b[0m, \u001b[31mtypechanged\u001b[0m, \u001b[2mdoc\u001b[0m):\n",
      "  BEATS_PER_MEASURE = 4\n",
      "  batch_size = 8                     \u001b[2m# data_loader config\u001b[0m\n",
      "  beat_resolution = 4\n",
      "  data_dir = '../data/few_examples'  \u001b[2m# #\"../../../data/lpd_5\",\u001b[0m\n",
      "  hidden_size = 200                  \u001b[2m# model configs\u001b[0m\n",
      "  lowest_pitch = 24\n",
      "  lr = 0.01\n",
      "  measures_per_sample = 4\n",
      "  n_instruments = 5                  \u001b[2m# general configs\u001b[0m\n",
      "  n_pitches = 72\n",
      "  n_workers = 0\n",
      "  num_epochs = 10                    \u001b[2m# train configs\u001b[0m\n",
      "  num_layers = 3\n",
      "  seed = 863668994                   \u001b[2m# the random seed for this experiment\u001b[0m\n",
      "  timesteps_per_measure = 16\n"
     ]
    },
    {
     "data": {
      "text/plain": [
       "<sacred.run.Run at 0x1aca67a3f08>"
      ]
     },
     "execution_count": 10,
     "metadata": {},
     "output_type": "execute_result"
    }
   ],
   "source": [
    "ex.run('print_config')"
   ]
  },
  {
   "cell_type": "code",
   "execution_count": 12,
   "metadata": {},
   "outputs": [
    {
     "name": "stderr",
     "output_type": "stream",
     "text": [
      "WARNING - train_lstm - No observers have been added to this run\n",
      "INFO - train_lstm - Running command 'main'\n",
      "INFO - train_lstm - Started\n",
      "100%|██████████████████████████████████████████████████████████████████████████████████| 37/37 [00:00<00:00, 42.75it/s]\n",
      "   1. epoch:   0%|                                                                               | 0/4 [00:00<?, ?it/s]"
     ]
    },
    {
     "name": "stdout",
     "output_type": "stream",
     "text": [
      "Loaded 37 samples!\n"
     ]
    },
    {
     "name": "stderr",
     "output_type": "stream",
     "text": [
      "   1. epoch: 100%|████████████████████████████████████████████████████████████| 4/4 [00:00<00:00,  4.31it/s, loss=9.72]\n",
      "   2. epoch: 100%|████████████████████████████████████████████████████████████| 4/4 [00:00<00:00,  4.53it/s, loss=12.1]\n",
      "   3. epoch: 100%|████████████████████████████████████████████████████████████| 4/4 [00:00<00:00,  4.74it/s, loss=10.6]\n",
      "   4. epoch: 100%|████████████████████████████████████████████████████████████| 4/4 [00:00<00:00,  4.53it/s, loss=7.23]\n",
      "   5. epoch: 100%|████████████████████████████████████████████████████████████| 4/4 [00:00<00:00,  4.55it/s, loss=10.9]\n",
      "   6. epoch: 100%|████████████████████████████████████████████████████████████| 4/4 [00:00<00:00,  4.55it/s, loss=12.1]\n",
      "   7. epoch: 100%|████████████████████████████████████████████████████████████| 4/4 [00:00<00:00,  4.60it/s, loss=8.12]\n",
      "   8. epoch: 100%|████████████████████████████████████████████████████████████| 4/4 [00:00<00:00,  4.66it/s, loss=10.3]\n",
      "   9. epoch: 100%|████████████████████████████████████████████████████████████| 4/4 [00:00<00:00,  4.66it/s, loss=6.26]\n",
      "  10. epoch: 100%|██████████████████████████████████████████████████████████████| 4/4 [00:00<00:00,  4.52it/s, loss=11]\n",
      "INFO - train_lstm - Completed after 0:00:10\n"
     ]
    },
    {
     "data": {
      "text/plain": [
       "<sacred.run.Run at 0x1acb97138c8>"
      ]
     },
     "execution_count": 12,
     "metadata": {},
     "output_type": "execute_result"
    }
   ],
   "source": [
    "config_updates = {\n",
    "    \"data_dir\": \"../../../data/few_examples\"\n",
    "}\n",
    "ex.run(config_updates=config_updates)"
   ]
  },
  {
   "cell_type": "markdown",
   "metadata": {},
   "source": [
    "## Generate Music"
   ]
  },
  {
   "cell_type": "code",
   "execution_count": null,
   "metadata": {},
   "outputs": [],
   "source": [
    "import matplotlib.pyplot as plt\n",
    "import torch\n",
    "import torch.nn as nn\n",
    "from torch.utils.data import Dataset\n",
    "import numpy as np\n",
    "import pypianoroll as pp\n",
    "import torch.optim as optim\n",
    "\n",
    "from glob import glob\n",
    "\n",
    "from tqdm import tqdm"
   ]
  },
  {
   "cell_type": "code",
   "execution_count": null,
   "metadata": {},
   "outputs": [],
   "source": [
    "# use model and generate a fuckn mid\n",
    "\n",
    "# how you ask?\n",
    "# well good question! let me tell you how\n",
    "\n",
    "# start with a piano roll sequence\n",
    "# should have dimension (batch_size, n_instruments, seq_length, n_pitches)\n",
    "# batch size is 1, n_instrument is 5, n_pitches is 72\n",
    "from torch.distributions.multinomial import Multinomial\n",
    "from datetime import datetime\n",
    "\n",
    "\n",
    "def generate_pianoroll(pianoroll, beat_resolution, lowest_pitch, n_pitches):\n",
    "    '''\n",
    "    :param pianoroll: uint8 array, shape = (instruments, time, 128) - min value = 0, max value = 127\n",
    "    :param beat_resolution: don't touch this unless you know what you are doing\n",
    "    :return: a multi track piano roll\n",
    "    '''\n",
    "    \n",
    "    INSTRUMENTS = ['Drums', 'Piano', 'Guitar', 'Bass', 'Strings']\n",
    "    INSTRUMENT_MIDI_METADATA = {\n",
    "        0: (0, True),\n",
    "        1: (0, False),\n",
    "        2: (25, False),\n",
    "        3: (33, False),\n",
    "        4: (48, False)\n",
    "    }\n",
    "\n",
    "    tempo = 120.0\n",
    "    downbeat=None\n",
    "\n",
    "    assert(np.all(np.logical_and(pianoroll >= 0, pianoroll < 128)))\n",
    "    pianoroll = pianoroll.astype(np.uint8)\n",
    "\n",
    "    full_pitch_pianoroll = np.zeros((pianoroll.shape[0], pianoroll.shape[1], 128))\n",
    "    full_pitch_pianoroll[:, :, lowest_pitch:lowest_pitch + n_pitches] = pianoroll\n",
    "\n",
    "    # create tracks\n",
    "    tracks = []\n",
    "    for i in range(len(full_pitch_pianoroll)):\n",
    "        program, is_drum = INSTRUMENT_MIDI_METADATA[i]\n",
    "        tracks.append(\n",
    "            pp.Track(\n",
    "                full_pitch_pianoroll[i],\n",
    "                is_drum=is_drum,\n",
    "                program=program,\n",
    "                name=INSTRUMENTS[i]\n",
    "            )\n",
    "        )\n",
    "\n",
    "    # create multitrack piano rolls\n",
    "    return pp.Multitrack(\n",
    "        tracks=tracks,\n",
    "        tempo=tempo * (np.ones(full_pitch_pianoroll.shape[1])),\n",
    "        downbeat=downbeat,\n",
    "        beat_resolution=beat_resolution,\n",
    "        name='generated'\n",
    "    )\n",
    "\n",
    "\n",
    "def rand_stub_generator(seq_len):\n",
    "    n_pitches = 72\n",
    "    n_instruments = 5\n",
    "    \n",
    "    m = Multinomial(total_count=1, probs=torch.ones(1, n_instruments, seq_len, n_pitches))\n",
    "    \n",
    "    return lambda : m.sample()\n",
    "\n",
    "\n",
    "def generate_mid(stub, model, n_iter=10, seq_length=None):\n",
    "    if seq_length is None:\n",
    "        seq_length = stub.size(2)\n",
    "    \n",
    "    pianoroll = stub\n",
    "    \n",
    "    for _ in range(n_iter):\n",
    "        # generate next timestep\n",
    "        y_hat = model.forward(stub)\n",
    "        \n",
    "        # add timestep to pianoroll\n",
    "        pianoroll = torch.cat([pianoroll, y_hat], dim=2)\n",
    "        # slide stub\n",
    "        stub = pianoroll[:, :, -seq_len:, :]\n",
    "        \n",
    "\n",
    "    # convert pianoroll -> pp.Multitrack -> .mid file\n",
    "    pianoroll_view = pianoroll.view(-1, pianoroll.size(3))\n",
    "    max_p, argmax_p = pianoroll_view.max(dim=-1)\n",
    "    \n",
    "    new_roll = torch.zeros_like(pianoroll_view)\n",
    "    new_roll[np.arange(new_roll.size(0)), argmax_p.type(torch.LongTensor)] = max_p\n",
    "    \n",
    "    pianoroll = new_roll.view(pianoroll.size())\n",
    "    pianoroll = pianoroll.detach()[0].numpy() * 127\n",
    "    \n",
    "    pianoroll[np.logical_and(pianoroll > 1, pianoroll < 60)] += 60\n",
    "\n",
    "    return generate_pianoroll(pianoroll, beat_resolution=4, lowest_pitch=24, n_pitches=72)\n",
    "\n",
    "    \n",
    "def stub_from_file(file, seq_length, random_start=True):\n",
    "    lowest_pitch = 24\n",
    "    n_pitches = 72\n",
    "    n_instruments = 5\n",
    "    beat_resolution = 4\n",
    "    \n",
    "    multitrack_roll = pp.load(file)\n",
    "    multitrack_roll.downsample(multitrack_roll.beat_resolution // beat_resolution)\n",
    "    \n",
    "    stacked = multitrack_roll.get_stacked_pianoroll().transpose(2, 0, 1)\n",
    "    \n",
    "    start = 0 # np.random.choice(stacked.shape[1] - seq_length)\n",
    "    if random_start:\n",
    "        start = np.random.choice(stacked.shape[1] - seq_length)\n",
    "     \n",
    "    print(start)\n",
    "    stub = stacked[:, start:start+seq_length, lowest_pitch:lowest_pitch+n_pitches]\n",
    "    \n",
    "    return torch.from_numpy(stub).type(dtype=torch.FloatTensor).unsqueeze(0) / 127"
   ]
  },
  {
   "cell_type": "code",
   "execution_count": null,
   "metadata": {},
   "outputs": [],
   "source": [
    "model.load_state_dict(torch.load('lstm_finished.pth', map_location=dev))"
   ]
  },
  {
   "cell_type": "code",
   "execution_count": null,
   "metadata": {},
   "outputs": [],
   "source": [
    "data_dir = ds.data_dir\n",
    "seq_len = 16*4"
   ]
  },
  {
   "cell_type": "code",
   "execution_count": null,
   "metadata": {},
   "outputs": [],
   "source": [
    "gen = rand_stub_generator(seq_len)\n",
    "stub = gen()\n",
    "sample = generate_mid(stub, model)"
   ]
  },
  {
   "cell_type": "code",
   "execution_count": null,
   "metadata": {},
   "outputs": [],
   "source": [
    "import pypianoroll.plot as ppplt"
   ]
  },
  {
   "cell_type": "code",
   "execution_count": null,
   "metadata": {},
   "outputs": [],
   "source": [
    "files = glob(data_dir + \"/**/*.npz\", recursive=True)"
   ]
  },
  {
   "cell_type": "code",
   "execution_count": null,
   "metadata": {},
   "outputs": [],
   "source": [
    "file = np.random.choice(files)\n",
    "#file = files[]\n",
    "\n",
    "print(file)\n",
    "stub = stub_from_file(file, seq_len)\n",
    "sample = generate_mid(stub, model, 10)\n",
    "sample.write(\"../../../out/out_{}.mid\".format(int(datetime.timestamp(datetime. now()))))\n",
    "\n",
    "#sample.write('out.mid')\n",
    "fig, axs = ppplt(sample.tracks[0])\n",
    "\n",
    "fig.set_size_inches(18.5, 10.5)\n",
    "plt.show()"
   ]
  },
  {
   "cell_type": "code",
   "execution_count": null,
   "metadata": {},
   "outputs": [],
   "source": []
  },
  {
   "cell_type": "code",
   "execution_count": null,
   "metadata": {},
   "outputs": [],
   "source": []
  },
  {
   "cell_type": "code",
   "execution_count": null,
   "metadata": {},
   "outputs": [],
   "source": []
  },
  {
   "cell_type": "code",
   "execution_count": null,
   "metadata": {},
   "outputs": [],
   "source": []
  },
  {
   "cell_type": "code",
   "execution_count": null,
   "metadata": {},
   "outputs": [],
   "source": []
  },
  {
   "cell_type": "code",
   "execution_count": null,
   "metadata": {},
   "outputs": [],
   "source": []
  },
  {
   "cell_type": "code",
   "execution_count": null,
   "metadata": {},
   "outputs": [],
   "source": []
  }
 ],
 "metadata": {
  "kernelspec": {
   "display_name": "Python 3",
   "language": "python",
   "name": "python3"
  },
  "language_info": {
   "codemirror_mode": {
    "name": "ipython",
    "version": 3
   },
   "file_extension": ".py",
   "mimetype": "text/x-python",
   "name": "python",
   "nbconvert_exporter": "python",
   "pygments_lexer": "ipython3",
   "version": "3.7.5"
  }
 },
 "nbformat": 4,
 "nbformat_minor": 2
}
